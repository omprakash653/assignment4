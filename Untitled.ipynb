{
 "cells": [
  {
   "cell_type": "markdown",
   "id": "ad03844e",
   "metadata": {},
   "source": [
    "# Ans1"
   ]
  },
  {
   "cell_type": "code",
   "execution_count": 1,
   "id": "17a0bffb",
   "metadata": {},
   "outputs": [],
   "source": [
    "# [] are used in python to indicate a list. All the types of datatypes (int, boolean, str, float) can\n",
    "# be added in the list. Empty list with no items is represented by []."
   ]
  },
  {
   "cell_type": "markdown",
   "id": "f8b70f2e",
   "metadata": {},
   "source": [
    "# Ans2"
   ]
  },
  {
   "cell_type": "code",
   "execution_count": 2,
   "id": "796c4a15",
   "metadata": {},
   "outputs": [],
   "source": [
    "# According to the given informaBon, spam contains the following list:\n",
    "# spam = [‘2’,’4’,’6’,’8’,’10’]\n",
    "# We need to assign the third value in the list as ‘hello’:\n",
    "# spam[2] = ‘hello’\n",
    "# print[spam]\n",
    "# [‘2’,’4’,’hello’,’8’,’10’]"
   ]
  },
  {
   "cell_type": "markdown",
   "id": "f63dd3f5",
   "metadata": {},
   "source": [
    "# Ans3"
   ]
  },
  {
   "cell_type": "code",
   "execution_count": 3,
   "id": "2ec99a6d",
   "metadata": {},
   "outputs": [],
   "source": [
    "# According to the given informaBon, spam contains the following list:\n",
    "# spam = [‘a’,’b’,’c’,’d’]\n",
    "# spam[int(int('3' * 2) // 11)]\n",
    "# According to the statement, ‘3’ is a string. Therefore,\n",
    "# ‘3’ * 2 = 33\n",
    "# Later 33 is assigned as int,\n",
    "# 33 // 11 = 3\n",
    "# The answer is 3."
   ]
  },
  {
   "cell_type": "markdown",
   "id": "9d57de68",
   "metadata": {},
   "source": [
    "# Ans4"
   ]
  },
  {
   "cell_type": "code",
   "execution_count": 5,
   "id": "a0754b69",
   "metadata": {},
   "outputs": [],
   "source": [
    "# spam = [‘a’,’b’,’c’,’d’]\n",
    "# print(spam[-1])\n",
    "# ‘d’"
   ]
  },
  {
   "cell_type": "markdown",
   "id": "f5542f9f",
   "metadata": {},
   "source": [
    "# Ans5"
   ]
  },
  {
   "cell_type": "code",
   "execution_count": 6,
   "id": "1742ab54",
   "metadata": {},
   "outputs": [],
   "source": [
    "# spam = [‘a’,’b’,’c’,’d’]\n",
    "# print(spam[:2])\n",
    "# [‘a’,’b’]"
   ]
  },
  {
   "cell_type": "markdown",
   "id": "58ceace9",
   "metadata": {},
   "source": [
    "# Ans6"
   ]
  },
  {
   "cell_type": "code",
   "execution_count": 7,
   "id": "b97dc5cb",
   "metadata": {},
   "outputs": [],
   "source": [
    "# According to the given informaBon, spam contains the following list:\n",
    "# bacon = [3.14, 'cat', 11, 'cat', True]\n",
    "# bacon.index('cat')\n",
    "# 1"
   ]
  },
  {
   "cell_type": "markdown",
   "id": "98da64b8",
   "metadata": {},
   "source": [
    "# Ans7"
   ]
  },
  {
   "cell_type": "code",
   "execution_count": 10,
   "id": "8cdd9f5a",
   "metadata": {},
   "outputs": [],
   "source": [
    "# bacon = [3.14, 'cat', 11, 'cat', True]\n",
    "# bacon.append(99)\n",
    "# [3.14, 'cat', 11, 'cat', True, 99]"
   ]
  },
  {
   "cell_type": "markdown",
   "id": "6e23cab5",
   "metadata": {},
   "source": [
    "# Ans8"
   ]
  },
  {
   "cell_type": "code",
   "execution_count": 9,
   "id": "31bf2ed2",
   "metadata": {},
   "outputs": [],
   "source": [
    "# bacon = [3.14, 'cat', 11, 'cat', True]\n",
    "# bacon.remove('cat')\n",
    "# [3.14, 11, ‘cat’, True]\n"
   ]
  },
  {
   "cell_type": "markdown",
   "id": "66557e20",
   "metadata": {},
   "source": [
    "# Ans9"
   ]
  },
  {
   "cell_type": "code",
   "execution_count": 11,
   "id": "e29208f4",
   "metadata": {},
   "outputs": [],
   "source": [
    "# To indicate concatenaBon in python, we use ‘+’ operator.\n",
    "# Eg.: print(‘hello’ + ‘world’)\n",
    "# helloworld\n",
    "# To indicate replicaBon in python, we use ‘*’ operator.\n",
    "# Eg.: print(‘ha’ * 3)\n",
    "# hahaha"
   ]
  },
  {
   "cell_type": "markdown",
   "id": "31e8ace5",
   "metadata": {},
   "source": [
    "# Ans10"
   ]
  },
  {
   "cell_type": "code",
   "execution_count": 17,
   "id": "82b96617",
   "metadata": {},
   "outputs": [
    {
     "name": "stdout",
     "output_type": "stream",
     "text": [
      "[1, 2, 4, 5, 6, 7]\n",
      "[1, 2, 3, 4, 5, 6, 7]\n"
     ]
    }
   ],
   "source": [
    "# We use append() to add an item at the end of the list.\n",
    "# To add an item at a specific index, we use insert()\n",
    "# Eg.:\n",
    "list1=[1,2,4,5,6]\n",
    "list1.append(7)\n",
    "print(list1)\n",
    "\n",
    "list1.insert(2, 3)\n",
    "print(list1)"
   ]
  },
  {
   "cell_type": "markdown",
   "id": "83b38027",
   "metadata": {},
   "source": [
    "# Ans11"
   ]
  },
  {
   "cell_type": "code",
   "execution_count": 19,
   "id": "f7b5cb87",
   "metadata": {},
   "outputs": [
    {
     "name": "stdout",
     "output_type": "stream",
     "text": [
      "[2, 4, 6, 8, 10]\n",
      "[2, 4, 6, 8, 10]\n"
     ]
    }
   ],
   "source": [
    "# To remove items from the list, there are two methods:\n",
    "# i. del\n",
    "even = [2,4,5,6,8,10]\n",
    "del even[2]\n",
    "print(even)\n",
    "\n",
    "# ii. remove\n",
    "even = [2,4,5,6,8,10]\n",
    "even.remove(5)\n",
    "print(even)"
   ]
  },
  {
   "cell_type": "markdown",
   "id": "30fd05d1",
   "metadata": {},
   "source": [
    "# Ans12"
   ]
  },
  {
   "cell_type": "code",
   "execution_count": 20,
   "id": "758fb62f",
   "metadata": {},
   "outputs": [],
   "source": [
    "# Both the list and string have following similariBes:\n",
    "#  They both have indexes. Therefore, they can be sliced.\n",
    "#  Similarly, they can be used with operators such as concatenaBon and replicaBon.\n",
    "#  The lengths of both the list and string can be defined by len() funcBon.\n",
    "#  Both can be used in for loops."
   ]
  },
  {
   "cell_type": "markdown",
   "id": "fdf8c204",
   "metadata": {},
   "source": [
    "# Ans13"
   ]
  },
  {
   "cell_type": "code",
   "execution_count": 21,
   "id": "e1eddd1c",
   "metadata": {},
   "outputs": [],
   "source": [
    "# Lists and Tuples have following differences:\n",
    "#  List are wri\\en using square brackets [] while tuples are wri\\en using parentheses ().\n",
    "#  Lists are mutable while tuples are immutable.\n",
    "#  In the list, we can manipulate the items by adding any new item, removing an item or\n",
    "# changing an item.\n",
    "#  Tuples cannot be changed at all."
   ]
  },
  {
   "cell_type": "markdown",
   "id": "5bb4d486",
   "metadata": {},
   "source": [
    "# Ans14"
   ]
  },
  {
   "cell_type": "code",
   "execution_count": 23,
   "id": "ae1e2e59",
   "metadata": {},
   "outputs": [
    {
     "name": "stdout",
     "output_type": "stream",
     "text": [
      "<class 'tuple'>\n"
     ]
    }
   ],
   "source": [
    "# We can write the int 42 in the tuple as follows:\n",
    "a=(42,)\n",
    "print(type(a))"
   ]
  },
  {
   "cell_type": "markdown",
   "id": "257a9a93",
   "metadata": {},
   "source": [
    "# Ans15"
   ]
  },
  {
   "cell_type": "code",
   "execution_count": 29,
   "id": "e35b9764",
   "metadata": {},
   "outputs": [],
   "source": [
    "# List values in tuple form:\n",
    "# fruits=['apple', 'banana', 'grapes', 'kiwi', 'pineapple']\n",
    "# tuple_fruits= tuple(fruits)\n",
    "# print(tuple_fruits)\n",
    "\n",
    "# # Similarly, tuple values in list form:\n",
    "# fruits=('apple', 'banana', 'grapes', 'kiwi', 'pineapple')\n",
    "# list_fruits= list(fruits)\n",
    "# print(list_fruits)"
   ]
  },
  {
   "cell_type": "markdown",
   "id": "ad8ec45b",
   "metadata": {},
   "source": [
    "# Ans16"
   ]
  },
  {
   "cell_type": "code",
   "execution_count": 30,
   "id": "00116649",
   "metadata": {},
   "outputs": [],
   "source": [
    "# Variables that \"contain\" list values are not necessarily lists themselves. They contain\n",
    "# references to list values.\n",
    "# For example:\n",
    "# fruits=['apple', 'banana', 'grapes', 'kiwi', ‘pineapple’]\n",
    "# Here, fruits is the reference to list values."
   ]
  },
  {
   "cell_type": "code",
   "execution_count": null,
   "id": "a89cb120",
   "metadata": {},
   "outputs": [],
   "source": [
    "Ans"
   ]
  }
 ],
 "metadata": {
  "kernelspec": {
   "display_name": "Python 3 (ipykernel)",
   "language": "python",
   "name": "python3"
  },
  "language_info": {
   "codemirror_mode": {
    "name": "ipython",
    "version": 3
   },
   "file_extension": ".py",
   "mimetype": "text/x-python",
   "name": "python",
   "nbconvert_exporter": "python",
   "pygments_lexer": "ipython3",
   "version": "3.11.1"
  }
 },
 "nbformat": 4,
 "nbformat_minor": 5
}
